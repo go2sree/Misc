{
 "cells": [
  {
   "cell_type": "code",
   "execution_count": 1,
   "metadata": {},
   "outputs": [],
   "source": [
    "import tabula"
   ]
  },
  {
   "cell_type": "code",
   "execution_count": 5,
   "metadata": {},
   "outputs": [],
   "source": [
    "pdf_path = \"Annual Report 2018-19 English.pdf\""
   ]
  },
  {
   "cell_type": "code",
   "execution_count": 6,
   "metadata": {},
   "outputs": [
    {
     "name": "stderr",
     "output_type": "stream",
     "text": [
      "Got stderr: Mar 03, 2022 8:41:05 PM org.apache.pdfbox.rendering.PDFRenderer suggestKCMS\r\n",
      "INFO: Your current java version is: 1.8.0_51\r\n",
      "Mar 03, 2022 8:41:05 PM org.apache.pdfbox.rendering.PDFRenderer suggestKCMS\r\n",
      "INFO: To get higher rendering speed on old java 1.8 or 9 versions,\r\n",
      "Mar 03, 2022 8:41:05 PM org.apache.pdfbox.rendering.PDFRenderer suggestKCMS\r\n",
      "INFO:   update to the latest 1.8 or 9 version (>= 1.8.0_191 or >= 9.0.4),\r\n",
      "Mar 03, 2022 8:41:05 PM org.apache.pdfbox.rendering.PDFRenderer suggestKCMS\r\n",
      "INFO:   or\r\n",
      "Mar 03, 2022 8:41:05 PM org.apache.pdfbox.rendering.PDFRenderer suggestKCMS\r\n",
      "INFO:   use the option -Dsun.java2d.cmm=sun.java2d.cmm.kcms.KcmsServiceProvider\r\n",
      "Mar 03, 2022 8:41:05 PM org.apache.pdfbox.rendering.PDFRenderer suggestKCMS\r\n",
      "INFO:   or call System.setProperty(\"sun.java2d.cmm\", \"sun.java2d.cmm.kcms.KcmsServiceProvider\")\r\n",
      "\n"
     ]
    },
    {
     "name": "stdout",
     "output_type": "stream",
     "text": [
      "3\n"
     ]
    }
   ],
   "source": [
    "dfs = tabula.read_pdf(pdf_path,pages=\"all\")\n",
    "print(len(dfs))"
   ]
  },
  {
   "cell_type": "code",
   "execution_count": 7,
   "metadata": {},
   "outputs": [
    {
     "name": "stdout",
     "output_type": "stream",
     "text": [
      "                                          LIABILITIES  Unnamed: 0  \\\n",
      "0                             Non-current liabilities         NaN   \n",
      "1                               Financial Liabilities         NaN   \n",
      "2                         Other financial liabilities        18.0   \n",
      "3                                          Provisions        19.0   \n",
      "4                      Deferred tax liabilities (Net)        20.0   \n",
      "5                       Other Non-current liabilities        21.0   \n",
      "6                       Total Non Current Liabilities         NaN   \n",
      "7                                 Current liabilities         NaN   \n",
      "8                               Financial Liabilities         NaN   \n",
      "9                                      Trade payables        22.0   \n",
      "10  Total outstanding dues of micro enterprises an...         NaN   \n",
      "11                                        enterprises         NaN   \n",
      "12  Total outstanding dues of creditors other than...         NaN   \n",
      "13                  enterprises and small enterprises         NaN   \n",
      "14                        Other financial liabilities        23.0   \n",
      "15                                         Provisions        24.0   \n",
      "16                          Other current liabilities        25.0   \n",
      "17                      Current Tax Liabilities (Net)        26.0   \n",
      "18                          Total Current Liabilities         NaN   \n",
      "19                                   Deferred Revenue        27.0   \n",
      "20                       Total Equity and Liabilities         NaN   \n",
      "21                    Significant accounting policies         1.0   \n",
      "\n",
      "     Unnamed: 1   Unnamed: 2  \n",
      "0           NaN          NaN  \n",
      "1           NaN          NaN  \n",
      "2      2,964.74     2,150.44  \n",
      "3        385.04       308.63  \n",
      "4        582.70       559.41  \n",
      "5        602.06       349.17  \n",
      "6      4,534.54     3,367.65  \n",
      "7           NaN          NaN  \n",
      "8           NaN          NaN  \n",
      "9           NaN          NaN  \n",
      "10          NaN          NaN  \n",
      "11            -            -  \n",
      "12          NaN          NaN  \n",
      "13    37,739.65    22,521.57  \n",
      "14  1,88,194.56  1,34,131.15  \n",
      "15       668.05       811.65  \n",
      "16     4,027.03     4,043.55  \n",
      "17            -        66.76  \n",
      "18  2,30,629.29  1,61,574.68  \n",
      "19    18,646.89     5,323.03  \n",
      "20  3,17,893.97  2,16,621.78  \n",
      "21          NaN          NaN  \n"
     ]
    }
   ],
   "source": [
    "print(dfs[1])"
   ]
  }
 ],
 "metadata": {
  "kernelspec": {
   "display_name": "Python 3",
   "language": "python",
   "name": "python3"
  },
  "language_info": {
   "codemirror_mode": {
    "name": "ipython",
    "version": 3
   },
   "file_extension": ".py",
   "mimetype": "text/x-python",
   "name": "python",
   "nbconvert_exporter": "python",
   "pygments_lexer": "ipython3",
   "version": "3.7.4"
  }
 },
 "nbformat": 4,
 "nbformat_minor": 2
}
